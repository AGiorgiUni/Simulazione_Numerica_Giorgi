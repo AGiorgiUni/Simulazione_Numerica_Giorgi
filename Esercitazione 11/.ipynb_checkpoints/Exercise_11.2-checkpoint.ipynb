{
 "cells": [
  {
   "cell_type": "code",
   "execution_count": 801,
   "metadata": {
    "executionInfo": {
     "elapsed": 456,
     "status": "ok",
     "timestamp": 1670679978543,
     "user": {
      "displayName": "Alessandro Giorgi",
      "userId": "02897407350033104093"
     },
     "user_tz": -60
    },
    "id": "bJUb94mgYdFP"
   },
   "outputs": [],
   "source": [
    "import numpy as np\n",
    "import matplotlib.pyplot as plt\n",
    "import tensorflow as tf\n",
    "from tensorflow import keras\n"
   ]
  },
  {
   "cell_type": "code",
   "execution_count": 802,
   "metadata": {
    "colab": {
     "base_uri": "https://localhost:8080/"
    },
    "executionInfo": {
     "elapsed": 2416,
     "status": "ok",
     "timestamp": 1670679980955,
     "user": {
      "displayName": "Alessandro Giorgi",
      "userId": "02897407350033104093"
     },
     "user_tz": -60
    },
    "id": "VZVXPNOwbuNv",
    "outputId": "d2cc2ab8-6aeb-487d-b4a5-63ed3457188e"
   },
   "outputs": [
    {
     "name": "stdout",
     "output_type": "stream",
     "text": [
      "Drive already mounted at /content/drive; to attempt to forcibly remount, call drive.mount(\"/content/drive\", force_remount=True).\n"
     ]
    }
   ],
   "source": [
    "from google.colab import drive\n",
    "drive.mount('/content/drive')"
   ]
  },
  {
   "cell_type": "code",
   "execution_count": 803,
   "metadata": {
    "executionInfo": {
     "elapsed": 11,
     "status": "ok",
     "timestamp": 1670679980956,
     "user": {
      "displayName": "Alessandro Giorgi",
      "userId": "02897407350033104093"
     },
     "user_tz": -60
    },
    "id": "rJnA4Ty6YiKE"
   },
   "outputs": [],
   "source": [
    "# target parameters of f(x) = a+b*x + c*x^2 + d*x^3\n",
    "a = 4 \n",
    "b = -3\n",
    "c=-2\n",
    "d= 3\n",
    "\n",
    "# generate training inputs\n",
    "np.random.seed(0)\n",
    "x_train = np.random.uniform(-1, 1, 1500)\n",
    "x_valid = np.random.uniform(-1, 1, 150)\n",
    "x_valid.sort()\n",
    "y_target = a + b* x_valid + c* x_valid**2+ d*x_valid**3\n",
    "\n",
    "sigma = 1.0 \n",
    "y_train = np.random.normal(a + b* x_train + c* x_train**2+ d*x_train**3, sigma) \n",
    "y_valid = np.random.normal(a + b* x_valid + c* x_valid**2+ d*x_valid**3, sigma)"
   ]
  },
  {
   "cell_type": "code",
   "execution_count": 804,
   "metadata": {
    "colab": {
     "base_uri": "https://localhost:8080/"
    },
    "executionInfo": {
     "elapsed": 9,
     "status": "ok",
     "timestamp": 1670679980956,
     "user": {
      "displayName": "Alessandro Giorgi",
      "userId": "02897407350033104093"
     },
     "user_tz": -60
    },
    "id": "IgPM-SsKakhv",
    "outputId": "f38d869a-6caa-441c-d125-d9f3078d730b"
   },
   "outputs": [
    {
     "name": "stdout",
     "output_type": "stream",
     "text": [
      "Model: \"sequential_115\"\n",
      "_________________________________________________________________\n",
      " Layer (type)                Output Shape              Param #   \n",
      "=================================================================\n",
      " dense_452 (Dense)           (None, 5)                 10        \n",
      "                                                                 \n",
      " dense_453 (Dense)           (None, 5)                 30        \n",
      "                                                                 \n",
      " dense_454 (Dense)           (None, 10)                60        \n",
      "                                                                 \n",
      " dense_455 (Dense)           (None, 5)                 55        \n",
      "                                                                 \n",
      " dense_456 (Dense)           (None, 1)                 6         \n",
      "                                                                 \n",
      "=================================================================\n",
      "Total params: 161\n",
      "Trainable params: 161\n",
      "Non-trainable params: 0\n",
      "_________________________________________________________________\n"
     ]
    }
   ],
   "source": [
    "# compose the NN model\n",
    "from tensorflow.keras.models import Sequential\n",
    "from tensorflow.keras.layers import Dense, Activation\n",
    "from tensorflow.keras import backend as K\n",
    "from tensorflow.keras.utils import get_custom_objects\n",
    "\n",
    "model = tf.keras.Sequential()\n",
    "model.add(Dense(5, input_shape=(1,), activation='relu'))\n",
    "#model.add(Dense(10, input_shape=(1,), activation='relu'))\n",
    "model.add(Dense(5, input_shape=(1,), activation='relu'))\n",
    "model.add(Dense(10, input_shape=(1,),activation='relu'))\n",
    "model.add(Dense(5, input_shape=(1,),activation='relu'))\n",
    "#model.add(Dense(5, input_shape=(1,), activation='relu'))\n",
    "model.add(Dense(1, input_shape=(1,),activation='elu'))\n",
    "\n",
    "# compile the model choosing optimizer, loss and metrics objects\n",
    "model.compile(optimizer='sgd', loss='mse', metrics=['mse'])\n",
    "# get a summary of our composed model\n",
    "model.summary()"
   ]
  },
  {
   "cell_type": "code",
   "execution_count": 805,
   "metadata": {
    "colab": {
     "base_uri": "https://localhost:8080/"
    },
    "executionInfo": {
     "elapsed": 4145,
     "status": "ok",
     "timestamp": 1670679985097,
     "user": {
      "displayName": "Alessandro Giorgi",
      "userId": "02897407350033104093"
     },
     "user_tz": -60
    },
    "id": "QACM1edtatGf",
    "outputId": "2b2bf081-b47f-4e51-e759-b640274833ed"
   },
   "outputs": [
    {
     "name": "stdout",
     "output_type": "stream",
     "text": [
      "Epoch 1/30\n",
      "47/47 [==============================] - 1s 5ms/step - loss: 3.1257 - mse: 3.1257 - val_loss: 1.1145 - val_mse: 1.1145\n",
      "Epoch 2/30\n",
      "47/47 [==============================] - 0s 2ms/step - loss: 1.2349 - mse: 1.2349 - val_loss: 1.0208 - val_mse: 1.0208\n",
      "Epoch 3/30\n",
      "47/47 [==============================] - 0s 2ms/step - loss: 1.1940 - mse: 1.1940 - val_loss: 1.0305 - val_mse: 1.0305\n",
      "Epoch 4/30\n",
      "47/47 [==============================] - 0s 2ms/step - loss: 1.1887 - mse: 1.1887 - val_loss: 1.0022 - val_mse: 1.0022\n",
      "Epoch 5/30\n",
      "47/47 [==============================] - 0s 2ms/step - loss: 1.1738 - mse: 1.1738 - val_loss: 0.9898 - val_mse: 0.9898\n",
      "Epoch 6/30\n",
      "47/47 [==============================] - 0s 4ms/step - loss: 1.1516 - mse: 1.1516 - val_loss: 0.9811 - val_mse: 0.9811\n",
      "Epoch 7/30\n",
      "47/47 [==============================] - 0s 2ms/step - loss: 1.1423 - mse: 1.1423 - val_loss: 0.9928 - val_mse: 0.9928\n",
      "Epoch 8/30\n",
      "47/47 [==============================] - 0s 2ms/step - loss: 1.1372 - mse: 1.1372 - val_loss: 0.9611 - val_mse: 0.9611\n",
      "Epoch 9/30\n",
      "47/47 [==============================] - 0s 2ms/step - loss: 1.1143 - mse: 1.1143 - val_loss: 0.9537 - val_mse: 0.9537\n",
      "Epoch 10/30\n",
      "47/47 [==============================] - 0s 2ms/step - loss: 1.1011 - mse: 1.1011 - val_loss: 0.9900 - val_mse: 0.9900\n",
      "Epoch 11/30\n",
      "47/47 [==============================] - 0s 3ms/step - loss: 1.0819 - mse: 1.0819 - val_loss: 0.9394 - val_mse: 0.9394\n",
      "Epoch 12/30\n",
      "47/47 [==============================] - 0s 2ms/step - loss: 1.0561 - mse: 1.0561 - val_loss: 0.9188 - val_mse: 0.9188\n",
      "Epoch 13/30\n",
      "47/47 [==============================] - 0s 3ms/step - loss: 1.0416 - mse: 1.0416 - val_loss: 0.9144 - val_mse: 0.9144\n",
      "Epoch 14/30\n",
      "47/47 [==============================] - 0s 2ms/step - loss: 1.0201 - mse: 1.0201 - val_loss: 0.8994 - val_mse: 0.8994\n",
      "Epoch 15/30\n",
      "47/47 [==============================] - 0s 2ms/step - loss: 1.0120 - mse: 1.0120 - val_loss: 0.8986 - val_mse: 0.8986\n",
      "Epoch 16/30\n",
      "47/47 [==============================] - 0s 2ms/step - loss: 1.0038 - mse: 1.0038 - val_loss: 0.9065 - val_mse: 0.9065\n",
      "Epoch 17/30\n",
      "47/47 [==============================] - 0s 2ms/step - loss: 0.9941 - mse: 0.9941 - val_loss: 0.9717 - val_mse: 0.9717\n",
      "Epoch 18/30\n",
      "47/47 [==============================] - 0s 2ms/step - loss: 0.9912 - mse: 0.9912 - val_loss: 0.9037 - val_mse: 0.9037\n",
      "Epoch 19/30\n",
      "47/47 [==============================] - 0s 2ms/step - loss: 0.9903 - mse: 0.9903 - val_loss: 0.8959 - val_mse: 0.8959\n",
      "Epoch 20/30\n",
      "47/47 [==============================] - 0s 2ms/step - loss: 0.9797 - mse: 0.9797 - val_loss: 0.9188 - val_mse: 0.9188\n",
      "Epoch 21/30\n",
      "47/47 [==============================] - 0s 2ms/step - loss: 0.9871 - mse: 0.9871 - val_loss: 0.8982 - val_mse: 0.8982\n",
      "Epoch 22/30\n",
      "47/47 [==============================] - 0s 2ms/step - loss: 0.9713 - mse: 0.9713 - val_loss: 0.8777 - val_mse: 0.8777\n",
      "Epoch 23/30\n",
      "47/47 [==============================] - 0s 2ms/step - loss: 0.9744 - mse: 0.9744 - val_loss: 0.9013 - val_mse: 0.9013\n",
      "Epoch 24/30\n",
      "47/47 [==============================] - 0s 2ms/step - loss: 0.9852 - mse: 0.9852 - val_loss: 0.8746 - val_mse: 0.8746\n",
      "Epoch 25/30\n",
      "47/47 [==============================] - 0s 2ms/step - loss: 0.9723 - mse: 0.9723 - val_loss: 0.8745 - val_mse: 0.8745\n",
      "Epoch 26/30\n",
      "47/47 [==============================] - 0s 3ms/step - loss: 0.9730 - mse: 0.9730 - val_loss: 0.8816 - val_mse: 0.8816\n",
      "Epoch 27/30\n",
      "47/47 [==============================] - 0s 2ms/step - loss: 0.9858 - mse: 0.9858 - val_loss: 0.8674 - val_mse: 0.8674\n",
      "Epoch 28/30\n",
      "47/47 [==============================] - 0s 2ms/step - loss: 0.9687 - mse: 0.9687 - val_loss: 0.8974 - val_mse: 0.8974\n",
      "Epoch 29/30\n",
      "47/47 [==============================] - 0s 2ms/step - loss: 0.9770 - mse: 0.9770 - val_loss: 0.9806 - val_mse: 0.9806\n",
      "Epoch 30/30\n",
      "47/47 [==============================] - 0s 2ms/step - loss: 0.9828 - mse: 0.9828 - val_loss: 0.8888 - val_mse: 0.8888\n"
     ]
    }
   ],
   "source": [
    "# fit the model using training dataset\n",
    "# over 10 epochs of 32 batch size each\n",
    "# report training progress against validation data\n",
    "history = model.fit(x=x_train, y=y_train, \n",
    "          batch_size=32, epochs=30,\n",
    "          shuffle=True, # a good idea is to shuffle input before at each epoch. Mischia input a ogni epoca\n",
    "          validation_data=(x_valid, y_valid))"
   ]
  },
  {
   "cell_type": "code",
   "execution_count": 809,
   "metadata": {
    "colab": {
     "base_uri": "https://localhost:8080/",
     "height": 363
    },
    "executionInfo": {
     "elapsed": 265,
     "status": "ok",
     "timestamp": 1670680026213,
     "user": {
      "displayName": "Alessandro Giorgi",
      "userId": "02897407350033104093"
     },
     "user_tz": -60
    },
    "id": "pDNZjupja3eV",
    "outputId": "8bf512f0-bd50-4ed7-ebc1-bf285773ac03"
   },
   "outputs": [
    {
     "name": "stdout",
     "output_type": "stream",
     "text": [
      "5/5 [==============================] - 0s 3ms/step - loss: 0.8888 - mse: 0.8888\n",
      "\n",
      "Test loss: 0.8888162970542908\n",
      "Test accuracy: 0.8888162970542908\n"
     ]
    },
    {
     "data": {
      "image/png": "[encoded data removed]",
      "text/plain": [
       "<Figure size 432x288 with 1 Axes>"
      ]
     },
     "metadata": {
      "needs_background": "light"
     },
     "output_type": "display_data"
    }
   ],
   "source": [
    "# evaluate model\n",
    "score = model.evaluate(x_valid, y_valid, batch_size=32, verbose=1)\n",
    "\n",
    "# print performance\n",
    "print()\n",
    "print('Test loss:', score[0])\n",
    "print('Test accuracy:', score[1])\n",
    "\n",
    "# look into training history\n",
    "# Plot training & validation loss values\n",
    "plt.plot(history.history['loss'])\n",
    "plt.plot(history.history['val_loss'])\n",
    "plt.title('Model loss')\n",
    "plt.ylabel('Loss')\n",
    "plt.xlabel('Epoch')\n",
    "plt.legend(['Train', 'Test'], loc='best')\n",
    "#plt.plot()\n",
    "plt.savefig(\"/content/drive/MyDrive/Colab Notebooks/Es11.2/history_100 epochs_relu_dense\")\n"
   ]
  },
  {
   "cell_type": "code",
   "execution_count": 808,
   "metadata": {
    "colab": {
     "base_uri": "https://localhost:8080/",
     "height": 282
    },
    "executionInfo": {
     "elapsed": 750,
     "status": "ok",
     "timestamp": 1670680020118,
     "user": {
      "displayName": "Alessandro Giorgi",
      "userId": "02897407350033104093"
     },
     "user_tz": -60
    },
    "id": "6RvyHuhFdugt",
    "outputId": "fb62d63f-8c4b-4a48-eb62-f93e0c1d1eb7"
   },
   "outputs": [
    {
     "name": "stdout",
     "output_type": "stream",
     "text": [
      "4/4 [==============================] - 0s 2ms/step\n"
     ]
    },
    {
     "data": {
      "image/png": "[encoded data removed]",
      "text/plain": [
       "<Figure size 432x288 with 1 Axes>"
      ]
     },
     "metadata": {
      "needs_background": "light"
     },
     "output_type": "display_data"
    }
   ],
   "source": [
    "x_predicted = np.random.uniform(-1, 1, 100)\n",
    "y_predicted = model.predict(x_predicted)\n",
    "\n",
    "plt.scatter(x_predicted, y_predicted,color='r')\n",
    "plt.plot(x_valid, y_target)\n",
    "plt.grid(True)\n",
    "#plt.show()\n",
    "plt.savefig(\"/content/drive/MyDrive/Colab Notebooks/Es11.2/points_50 epochs\")"
   ]
  },
  {
   "cell_type": "code",
   "execution_count": 817,
   "metadata": {
    "colab": {
     "base_uri": "https://localhost:8080/",
     "height": 282
    },
    "executionInfo": {
     "elapsed": 470,
     "status": "ok",
     "timestamp": 1670680506632,
     "user": {
      "displayName": "Alessandro Giorgi",
      "userId": "02897407350033104093"
     },
     "user_tz": -60
    },
    "id": "H_w_lGsDTqmP",
    "outputId": "6f149c6d-6347-4780-fac2-16c9f3bc9ee8"
   },
   "outputs": [
    {
     "name": "stdout",
     "output_type": "stream",
     "text": [
      "4/4 [==============================] - 0s 3ms/step\n"
     ]
    },
    {
     "data": {
      "image/png": "[encoded data removed]",
      "text/plain": [
       "<Figure size 432x288 with 1 Axes>"
      ]
     },
     "metadata": {
      "needs_background": "light"
     },
     "output_type": "display_data"
    }
   ],
   "source": [
    "x_predicted = np.random.uniform(-1.5, 1.5, 100)\n",
    "y_predicted = model.predict(x_predicted)\n",
    "y_true=a + b* x_predicted + c* x_predicted**2+ d*x_predicted**3\n",
    "\n",
    "plt.scatter(x_predicted, y_predicted,color='r')\n",
    "plt.scatter(x_predicted, y_true)\n",
    "plt.grid(True)\n",
    "plt.savefig(\"/content/drive/MyDrive/Colab Notebooks/Es11.2/points_non_range\")"
   ]
  },
  {
   "cell_type": "code",
   "execution_count": null,
   "metadata": {
    "id": "_p5IRWNHTsyN"
   },
   "outputs": [],
   "source": []
  }
 ],
 "metadata": {
  "colab": {
   "authorship_tag": "ABX9TyOIvGosmgWORTNItkstwKOa",
   "provenance": []
  },
  "kernelspec": {
   "display_name": "Python 3 (ipykernel)",
   "language": "python",
   "name": "python3"
  },
  "language_info": {
   "codemirror_mode": {
    "name": "ipython",
    "version": 3
   },
   "file_extension": ".py",
   "mimetype": "text/x-python",
   "name": "python",
   "nbconvert_exporter": "python",
   "pygments_lexer": "ipython3",
   "version": "3.9.7"
  }
 },
 "nbformat": 4,
 "nbformat_minor": 1
}
