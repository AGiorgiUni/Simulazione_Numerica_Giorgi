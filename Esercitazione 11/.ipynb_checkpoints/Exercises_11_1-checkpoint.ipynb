{
 "cells": [
  {
   "cell_type": "code",
   "execution_count": 46,
   "metadata": {
    "id": "bJUb94mgYdFP"
   },
   "outputs": [],
   "source": [
    "import numpy as np\n",
    "import matplotlib.pyplot as plt\n",
    "import tensorflow as tf\n",
    "from tensorflow import keras\n"
   ]
  },
  {
   "cell_type": "code",
   "execution_count": 47,
   "metadata": {
    "colab": {
     "base_uri": "https://localhost:8080/"
    },
    "id": "VZVXPNOwbuNv",
    "outputId": "cf88cbe8-622e-49f4-ac99-5f705fa8b7b7"
   },
   "outputs": [
    {
     "name": "stdout",
     "output_type": "stream",
     "text": [
      "Drive already mounted at /content/drive; to attempt to forcibly remount, call drive.mount(\"/content/drive\", force_remount=True).\n"
     ]
    }
   ],
   "source": [
    "from google.colab import drive\n",
    "drive.mount('/content/drive')"
   ]
  },
  {
   "cell_type": "code",
   "execution_count": 48,
   "metadata": {
    "id": "rJnA4Ty6YiKE"
   },
   "outputs": [],
   "source": [
    "# target parameters of f(x) = m*x + b\n",
    "m = 2 # slope\n",
    "b = 1 # intersect\n",
    "\n",
    "# generate training inputs\n",
    "np.random.seed(0)\n",
    "x_train = np.random.uniform(-1, 1, 1000)\n",
    "x_valid = np.random.uniform(-1, 1, 50)\n",
    "x_valid.sort()\n",
    "y_target = m * x_valid + b # ideal (target) linear function\n",
    "\n",
    "sigma = 2.0 # noise standard deviation, for the moment it is absent\n",
    "y_train = np.random.normal(m * x_train + b, sigma) # actual measures from which we want to guess regression parameters\n",
    "y_valid = np.random.normal(m * x_valid + b, sigma)"
   ]
  },
  {
   "cell_type": "code",
   "execution_count": 49,
   "metadata": {
    "colab": {
     "base_uri": "https://localhost:8080/"
    },
    "id": "IgPM-SsKakhv",
    "outputId": "1a5b1452-4a42-48eb-faea-5bc30be13cea"
   },
   "outputs": [
    {
     "name": "stdout",
     "output_type": "stream",
     "text": [
      "Model: \"sequential_6\"\n",
      "_________________________________________________________________\n",
      " Layer (type)                Output Shape              Param #   \n",
      "=================================================================\n",
      " dense_6 (Dense)             (None, 1)                 2         \n",
      "                                                                 \n",
      "=================================================================\n",
      "Total params: 2\n",
      "Trainable params: 2\n",
      "Non-trainable params: 0\n",
      "_________________________________________________________________\n"
     ]
    }
   ],
   "source": [
    "# compose the NN model\n",
    "from tensorflow.keras.models import Sequential\n",
    "from tensorflow.keras.layers import Dense, Activation\n",
    "from tensorflow.keras import backend as K\n",
    "from tensorflow.keras.utils import get_custom_objects\n",
    "\n",
    "model = tf.keras.Sequential()\n",
    "model.add(Dense(1, input_shape=(1,)))\n",
    "\n",
    "# compile the model choosing optimizer, loss and metrics objects\n",
    "model.compile(optimizer='sgd', loss='mse', metrics=['mse'])\n",
    "# get a summary of our composed model\n",
    "model.summary()"
   ]
  },
  {
   "cell_type": "code",
   "execution_count": 50,
   "metadata": {
    "colab": {
     "base_uri": "https://localhost:8080/"
    },
    "id": "QACM1edtatGf",
    "outputId": "847341fd-6bd4-48ae-ed32-98c0234d27a5"
   },
   "outputs": [
    {
     "name": "stdout",
     "output_type": "stream",
     "text": [
      "Epoch 1/50\n",
      "32/32 [==============================] - 0s 5ms/step - loss: 6.5470 - mse: 6.5470 - val_loss: 6.0178 - val_mse: 6.0178\n",
      "Epoch 2/50\n",
      "32/32 [==============================] - 0s 2ms/step - loss: 5.3644 - mse: 5.3644 - val_loss: 5.2038 - val_mse: 5.2038\n",
      "Epoch 3/50\n",
      "32/32 [==============================] - 0s 2ms/step - loss: 4.7433 - mse: 4.7433 - val_loss: 4.6853 - val_mse: 4.6853\n",
      "Epoch 4/50\n",
      "32/32 [==============================] - 0s 2ms/step - loss: 4.3931 - mse: 4.3931 - val_loss: 4.3301 - val_mse: 4.3301\n",
      "Epoch 5/50\n",
      "32/32 [==============================] - 0s 2ms/step - loss: 4.1678 - mse: 4.1678 - val_loss: 4.0701 - val_mse: 4.0701\n",
      "Epoch 6/50\n",
      "32/32 [==============================] - 0s 2ms/step - loss: 4.0252 - mse: 4.0252 - val_loss: 3.9093 - val_mse: 3.9093\n",
      "Epoch 7/50\n",
      "32/32 [==============================] - 0s 2ms/step - loss: 3.9355 - mse: 3.9355 - val_loss: 3.7722 - val_mse: 3.7722\n",
      "Epoch 8/50\n",
      "32/32 [==============================] - 0s 2ms/step - loss: 3.8828 - mse: 3.8828 - val_loss: 3.6729 - val_mse: 3.6729\n",
      "Epoch 9/50\n",
      "32/32 [==============================] - 0s 2ms/step - loss: 3.8464 - mse: 3.8464 - val_loss: 3.5867 - val_mse: 3.5867\n",
      "Epoch 10/50\n",
      "32/32 [==============================] - 0s 2ms/step - loss: 3.8232 - mse: 3.8232 - val_loss: 3.5567 - val_mse: 3.5567\n",
      "Epoch 11/50\n",
      "32/32 [==============================] - 0s 2ms/step - loss: 3.8105 - mse: 3.8105 - val_loss: 3.5194 - val_mse: 3.5194\n",
      "Epoch 12/50\n",
      "32/32 [==============================] - 0s 2ms/step - loss: 3.8017 - mse: 3.8017 - val_loss: 3.4603 - val_mse: 3.4603\n",
      "Epoch 13/50\n",
      "32/32 [==============================] - 0s 2ms/step - loss: 3.7935 - mse: 3.7935 - val_loss: 3.4416 - val_mse: 3.4416\n",
      "Epoch 14/50\n",
      "32/32 [==============================] - 0s 2ms/step - loss: 3.7883 - mse: 3.7883 - val_loss: 3.4387 - val_mse: 3.4387\n",
      "Epoch 15/50\n",
      "32/32 [==============================] - 0s 2ms/step - loss: 3.7861 - mse: 3.7861 - val_loss: 3.4241 - val_mse: 3.4241\n",
      "Epoch 16/50\n",
      "32/32 [==============================] - 0s 2ms/step - loss: 3.7843 - mse: 3.7843 - val_loss: 3.4106 - val_mse: 3.4106\n",
      "Epoch 17/50\n",
      "32/32 [==============================] - 0s 2ms/step - loss: 3.7837 - mse: 3.7837 - val_loss: 3.3999 - val_mse: 3.3999\n",
      "Epoch 18/50\n",
      "32/32 [==============================] - 0s 2ms/step - loss: 3.7828 - mse: 3.7828 - val_loss: 3.4011 - val_mse: 3.4011\n",
      "Epoch 19/50\n",
      "32/32 [==============================] - 0s 2ms/step - loss: 3.7825 - mse: 3.7825 - val_loss: 3.4008 - val_mse: 3.4008\n",
      "Epoch 20/50\n",
      "32/32 [==============================] - 0s 2ms/step - loss: 3.7816 - mse: 3.7816 - val_loss: 3.3808 - val_mse: 3.3808\n",
      "Epoch 21/50\n",
      "32/32 [==============================] - 0s 2ms/step - loss: 3.7824 - mse: 3.7824 - val_loss: 3.3809 - val_mse: 3.3809\n",
      "Epoch 22/50\n",
      "32/32 [==============================] - 0s 2ms/step - loss: 3.7813 - mse: 3.7813 - val_loss: 3.3744 - val_mse: 3.3744\n",
      "Epoch 23/50\n",
      "32/32 [==============================] - 0s 2ms/step - loss: 3.7808 - mse: 3.7808 - val_loss: 3.3778 - val_mse: 3.3778\n",
      "Epoch 24/50\n",
      "32/32 [==============================] - 0s 2ms/step - loss: 3.7815 - mse: 3.7815 - val_loss: 3.3717 - val_mse: 3.3717\n",
      "Epoch 25/50\n",
      "32/32 [==============================] - 0s 2ms/step - loss: 3.7812 - mse: 3.7812 - val_loss: 3.3877 - val_mse: 3.3877\n",
      "Epoch 26/50\n",
      "32/32 [==============================] - 0s 3ms/step - loss: 3.7818 - mse: 3.7818 - val_loss: 3.3689 - val_mse: 3.3689\n",
      "Epoch 27/50\n",
      "32/32 [==============================] - 0s 2ms/step - loss: 3.7822 - mse: 3.7822 - val_loss: 3.3680 - val_mse: 3.3680\n",
      "Epoch 28/50\n",
      "32/32 [==============================] - 0s 2ms/step - loss: 3.7831 - mse: 3.7831 - val_loss: 3.3677 - val_mse: 3.3677\n",
      "Epoch 29/50\n",
      "32/32 [==============================] - 0s 2ms/step - loss: 3.7811 - mse: 3.7811 - val_loss: 3.3879 - val_mse: 3.3879\n",
      "Epoch 30/50\n",
      "32/32 [==============================] - 0s 2ms/step - loss: 3.7815 - mse: 3.7815 - val_loss: 3.3719 - val_mse: 3.3719\n",
      "Epoch 31/50\n",
      "32/32 [==============================] - 0s 2ms/step - loss: 3.7811 - mse: 3.7811 - val_loss: 3.3647 - val_mse: 3.3647\n",
      "Epoch 32/50\n",
      "32/32 [==============================] - 0s 2ms/step - loss: 3.7814 - mse: 3.7814 - val_loss: 3.3549 - val_mse: 3.3549\n",
      "Epoch 33/50\n",
      "32/32 [==============================] - 0s 2ms/step - loss: 3.7807 - mse: 3.7807 - val_loss: 3.3678 - val_mse: 3.3678\n",
      "Epoch 34/50\n",
      "32/32 [==============================] - 0s 2ms/step - loss: 3.7808 - mse: 3.7808 - val_loss: 3.3738 - val_mse: 3.3738\n",
      "Epoch 35/50\n",
      "32/32 [==============================] - 0s 2ms/step - loss: 3.7818 - mse: 3.7818 - val_loss: 3.3727 - val_mse: 3.3727\n",
      "Epoch 36/50\n",
      "32/32 [==============================] - 0s 2ms/step - loss: 3.7818 - mse: 3.7818 - val_loss: 3.3675 - val_mse: 3.3675\n",
      "Epoch 37/50\n",
      "32/32 [==============================] - 0s 2ms/step - loss: 3.7806 - mse: 3.7806 - val_loss: 3.3572 - val_mse: 3.3572\n",
      "Epoch 38/50\n",
      "32/32 [==============================] - 0s 2ms/step - loss: 3.7824 - mse: 3.7824 - val_loss: 3.3558 - val_mse: 3.3558\n",
      "Epoch 39/50\n",
      "32/32 [==============================] - 0s 2ms/step - loss: 3.7811 - mse: 3.7811 - val_loss: 3.3558 - val_mse: 3.3558\n",
      "Epoch 40/50\n",
      "32/32 [==============================] - 0s 2ms/step - loss: 3.7804 - mse: 3.7804 - val_loss: 3.3525 - val_mse: 3.3525\n",
      "Epoch 41/50\n",
      "32/32 [==============================] - 0s 2ms/step - loss: 3.7808 - mse: 3.7808 - val_loss: 3.3623 - val_mse: 3.3623\n",
      "Epoch 42/50\n",
      "32/32 [==============================] - 0s 2ms/step - loss: 3.7809 - mse: 3.7809 - val_loss: 3.3604 - val_mse: 3.3604\n",
      "Epoch 43/50\n",
      "32/32 [==============================] - 0s 2ms/step - loss: 3.7805 - mse: 3.7805 - val_loss: 3.3612 - val_mse: 3.3612\n",
      "Epoch 44/50\n",
      "32/32 [==============================] - 0s 2ms/step - loss: 3.7822 - mse: 3.7822 - val_loss: 3.3560 - val_mse: 3.3560\n",
      "Epoch 45/50\n",
      "32/32 [==============================] - 0s 2ms/step - loss: 3.7826 - mse: 3.7826 - val_loss: 3.3520 - val_mse: 3.3520\n",
      "Epoch 46/50\n",
      "32/32 [==============================] - 0s 2ms/step - loss: 3.7811 - mse: 3.7811 - val_loss: 3.3439 - val_mse: 3.3439\n",
      "Epoch 47/50\n",
      "32/32 [==============================] - 0s 2ms/step - loss: 3.7815 - mse: 3.7815 - val_loss: 3.3548 - val_mse: 3.3548\n",
      "Epoch 48/50\n",
      "32/32 [==============================] - 0s 2ms/step - loss: 3.7811 - mse: 3.7811 - val_loss: 3.3697 - val_mse: 3.3697\n",
      "Epoch 49/50\n",
      "32/32 [==============================] - 0s 2ms/step - loss: 3.7825 - mse: 3.7825 - val_loss: 3.3696 - val_mse: 3.3696\n",
      "Epoch 50/50\n",
      "32/32 [==============================] - 0s 2ms/step - loss: 3.7817 - mse: 3.7817 - val_loss: 3.3757 - val_mse: 3.3757\n"
     ]
    }
   ],
   "source": [
    "# fit the model using training dataset\n",
    "# over 10 epochs of 32 batch size each\n",
    "# report training progress against validation data\n",
    "history = model.fit(x=x_train, y=y_train, \n",
    "          batch_size=32, epochs=50,\n",
    "          shuffle=True, # a good idea is to shuffle input before at each epoch. Mischia input a ogni epoca\n",
    "          validation_data=(x_valid, y_valid))"
   ]
  },
  {
   "cell_type": "code",
   "execution_count": 51,
   "metadata": {
    "colab": {
     "base_uri": "https://localhost:8080/",
     "height": 383
    },
    "id": "pDNZjupja3eV",
    "outputId": "6a931200-d995-4aba-93bb-912c1150b8f4"
   },
   "outputs": [
    {
     "name": "stdout",
     "output_type": "stream",
     "text": [
      "2/2 [==============================] - 0s 5ms/step - loss: 3.3757 - mse: 3.3757\n",
      "\n",
      "Test loss: 3.3757359981536865\n",
      "Test accuracy: 3.3757359981536865\n"
     ]
    },
    {
     "data": {
      "image/png": "[encoded data removed]",
      "text/plain": [
       "<Figure size 432x288 with 1 Axes>"
      ]
     },
     "metadata": {
      "needs_background": "light"
     },
     "output_type": "display_data"
    }
   ],
   "source": [
    "# evaluate model\n",
    "score = model.evaluate(x_valid, y_valid, batch_size=32, verbose=1)\n",
    "\n",
    "# print performance\n",
    "print()\n",
    "print('Test loss:', score[0])\n",
    "print('Test accuracy:', score[1])\n",
    "\n",
    "# look into training history\n",
    "# Plot training & validation loss values\n",
    "plt.plot(history.history['loss'])\n",
    "plt.plot(history.history['val_loss'])\n",
    "plt.title('Model loss')\n",
    "plt.ylabel('Loss')\n",
    "plt.xlabel('Epoch')\n",
    "plt.legend(['Train', 'Test'], loc='best')\n",
    "plt.savefig(\"/content/drive/MyDrive/Colab Notebooks/history_50 epochs\")\n"
   ]
  },
  {
   "cell_type": "code",
   "execution_count": 52,
   "metadata": {
    "colab": {
     "base_uri": "https://localhost:8080/",
     "height": 282
    },
    "id": "6RvyHuhFdugt",
    "outputId": "12854df0-09a7-46db-d1d9-03a1b59efde6"
   },
   "outputs": [
    {
     "name": "stdout",
     "output_type": "stream",
     "text": [
      "4/4 [==============================] - 0s 2ms/step\n"
     ]
    },
    {
     "data": {
      "image/png": "[encoded data removed]",
      "text/plain": [
       "<Figure size 432x288 with 1 Axes>"
      ]
     },
     "metadata": {
      "needs_background": "light"
     },
     "output_type": "display_data"
    }
   ],
   "source": [
    "x_predicted = np.random.uniform(-1, 1, 100)\n",
    "y_predicted = model.predict(x_predicted)\n",
    "plt.scatter(x_predicted, y_predicted,color='r',label='predicted point')\n",
    "plt.plot(x_valid, y_target,label='target')\n",
    "plt.legend()\n",
    "plt.grid(True)\n",
    "plt.savefig(\"/content/drive/MyDrive/Colab Notebooks/points_50 epochs\")"
   ]
  },
  {
   "cell_type": "code",
   "execution_count": 52,
   "metadata": {
    "id": "YbDu92NYdFmE"
   },
   "outputs": [],
   "source": []
  }
 ],
 "metadata": {
  "colab": {
   "provenance": []
  },
  "kernelspec": {
   "display_name": "Python 3 (ipykernel)",
   "language": "python",
   "name": "python3"
  },
  "language_info": {
   "codemirror_mode": {
    "name": "ipython",
    "version": 3
   },
   "file_extension": ".py",
   "mimetype": "text/x-python",
   "name": "python",
   "nbconvert_exporter": "python",
   "pygments_lexer": "ipython3",
   "version": "3.9.7"
  }
 },
 "nbformat": 4,
 "nbformat_minor": 1
}
